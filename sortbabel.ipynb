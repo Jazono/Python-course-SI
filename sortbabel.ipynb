{
 "cells": [
  {
   "cell_type": "code",
   "execution_count": 1,
   "metadata": {},
   "outputs": [
    {
     "name": "stdout",
     "output_type": "stream",
     "text": [
      "Size\n",
      "3\n",
      "1\n",
      "6\n",
      "0\n",
      "[1, 6, 0]\n",
      "[0, 1, 6]\n"
     ]
    }
   ],
   "source": [
    "print(\"Size\")\n",
    "n=int(input())\n",
    "\n",
    "def sortbabel(n):\n",
    "    tab=[]\n",
    "    for i in range(n):\n",
    "        tab.append(int(input()))\n",
    "    print(tab)\n",
    "    for i in range(n-1):\n",
    "        for i in range(n-1):\n",
    "            if tab[i]>tab[i+1]:\n",
    "                a=tab[i]\n",
    "                tab[i]=tab[i+1]\n",
    "                tab[i+1]=a\n",
    "    return tab\n",
    "\n",
    "b=sortbabel(n)\n",
    "print(b)"
   ]
  },
  {
   "cell_type": "code",
   "execution_count": null,
   "metadata": {},
   "outputs": [],
   "source": []
  }
 ],
 "metadata": {
  "kernelspec": {
   "display_name": "Python 3",
   "language": "python",
   "name": "python3"
  },
  "language_info": {
   "codemirror_mode": {
    "name": "ipython",
    "version": 3
   },
   "file_extension": ".py",
   "mimetype": "text/x-python",
   "name": "python",
   "nbconvert_exporter": "python",
   "pygments_lexer": "ipython3",
   "version": "3.7.3"
  }
 },
 "nbformat": 4,
 "nbformat_minor": 2
}

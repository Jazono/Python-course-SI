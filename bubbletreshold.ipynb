{
 "cells": [
  {
   "cell_type": "code",
   "execution_count": null,
   "metadata": {},
   "outputs": [],
   "source": [
    "import time\n",
    "\n",
    "def bubbleonset(n,x):\n",
    "    \n",
    "    start=time.time()\n",
    "    value=[]\n",
    "    index=[]\n",
    "    j=0\n",
    "    \n",
    "    for i in range(n):\n",
    "        if tab[i]>x:\n",
    "            value.append(tab[i])\n",
    "            index.append(i)\n",
    "            j=j+1\n",
    "            if j==3:\n",
    "                break\n",
    "    for i in range(2):\n",
    "        for i in range(2):\n",
    "            if value[i]<value[i+1]:\n",
    "                value[i],value[i+1]=value[i+1],value[i]\n",
    "                index[i],index[i+1]=index[i+1],index[i]\n",
    "    finish=time.time()\n",
    "    t=finish-start\n",
    "    return index,t\n",
    "\n",
    "print(\"Size\")\n",
    "n=int(input())\n",
    "\n",
    "tab=[]\n",
    "for i in range(n):\n",
    "    tab.append(int(input()))\n",
    "        \n",
    "print(\"Treshold\")\n",
    "x=int(input())\n",
    "\n",
    "a=bubbleonset(n,x)\n",
    "print(a)"
   ]
  }
 ],
 "metadata": {
  "kernelspec": {
   "display_name": "Python 3",
   "language": "python",
   "name": "python3"
  },
  "language_info": {
   "codemirror_mode": {
    "name": "ipython",
    "version": 3
   },
   "file_extension": ".py",
   "mimetype": "text/x-python",
   "name": "python",
   "nbconvert_exporter": "python",
   "pygments_lexer": "ipython3",
   "version": "3.7.3"
  }
 },
 "nbformat": 4,
 "nbformat_minor": 2
}

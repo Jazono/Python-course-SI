{
 "cells": [
  {
   "cell_type": "code",
   "execution_count": 6,
   "metadata": {},
   "outputs": [
    {
     "name": "stdout",
     "output_type": "stream",
     "text": [
      "Size\n",
      "3\n",
      "0\n",
      "5\n",
      "3\n",
      "[0, 5, 3]\n",
      "[0, 3, 5]\n"
     ]
    }
   ],
   "source": [
    "print(\"Size\")\n",
    "n=int(input())\n",
    "\n",
    "def insertsort(n):\n",
    "    tab=[]\n",
    "    for i in range(n):\n",
    "        tab.append(int(input()))\n",
    "    print(tab)\n",
    "    for i in range(n):\n",
    "        k=tab[i]\n",
    "        j=i-1\n",
    "        while j>=0 and tab[j]>k:\n",
    "            tab[j+1]=tab[j]\n",
    "            j=j-1\n",
    "            tab[j+1]=k\n",
    "    return tab\n",
    "\n",
    "c=insertsort(n)\n",
    "print(c)\n",
    "        "
   ]
  },
  {
   "cell_type": "markdown",
   "metadata": {},
   "source": []
  }
 ],
 "metadata": {
  "kernelspec": {
   "display_name": "Python 3",
   "language": "python",
   "name": "python3"
  },
  "language_info": {
   "codemirror_mode": {
    "name": "ipython",
    "version": 3
   },
   "file_extension": ".py",
   "mimetype": "text/x-python",
   "name": "python",
   "nbconvert_exporter": "python",
   "pygments_lexer": "ipython3",
   "version": "3.7.3"
  }
 },
 "nbformat": 4,
 "nbformat_minor": 2
}
